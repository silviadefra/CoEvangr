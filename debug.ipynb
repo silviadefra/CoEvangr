{
 "cells": [
  {
   "cell_type": "code",
   "execution_count": 31,
   "id": "7748df43-babb-4b3c-984b-182dce16c78c",
   "metadata": {},
   "outputs": [],
   "source": [
    "from elftools.elf.elffile import ELFFile\n",
    "import frida\n",
    "import sys\n",
    "from time import sleep"
   ]
  },
  {
   "cell_type": "code",
   "execution_count": 32,
   "id": "28d0fce5-e997-47c9-90a5-ec3df189ff37",
   "metadata": {},
   "outputs": [],
   "source": [
    "def generate_function_list(binary):\n",
    "    \"\"\"\n",
    "    Generate a list of all the functions defined by the target executable.\n",
    "    \"\"\"\n",
    "    functions = []\n",
    "    with open(binary, \"rb\") as f:\n",
    "        elf = ELFFile(f)\n",
    "        for section in elf.iter_sections():\n",
    "            if section.header.sh_type == 'SHT_SYMTAB':\n",
    "                for symbol in section.iter_symbols():\n",
    "                    if symbol.entry.st_info.type == 'STT_FUNC':\n",
    "                        functions.append(symbol.name)\n",
    "    return functions"
   ]
  },
  {
   "cell_type": "code",
   "execution_count": 33,
   "id": "cd7ae24d-32c7-48e3-8188-f9fa3286c465",
   "metadata": {},
   "outputs": [
    {
     "name": "stdout",
     "output_type": "stream",
     "text": [
      "['deregister_tm_clones', 'register_tm_clones', '__do_global_dtors_aux', 'frame_dummy', '__libc_start_main@GLIBC_2.34', '_fini', 'strlen@GLIBC_2.2.5', 'f', 'printf@GLIBC_2.2.5', 'strcmp@GLIBC_2.2.5', '_start', 'g', 'main', '__cxa_finalize@GLIBC_2.2.5', '_init']\n"
     ]
    }
   ],
   "source": [
    "binary_path = \"./test/test_char\"\n",
    "args = [\"arg1\", \"arg2\"]\n",
    "len=16\n",
    "\n",
    "function_list = generate_function_list(binary_path)\n",
    "print(function_list)"
   ]
  },
  {
   "cell_type": "code",
   "execution_count": 34,
   "id": "39c91a81-e378-4b99-bdba-e256bd05acdc",
   "metadata": {},
   "outputs": [],
   "source": [
    "def make_script(f,n,len):\n",
    "    args_str = ', '.join(f'args[{i}]' for i in range(n))\n",
    "    return \"\"\"\n",
    "            Interceptor.attach(DebugSymbol.getFunctionByName('main'), {\n",
    "                onEnter: function (args) {\n",
    "                    send({function: 'main', args:args[1].readPointer().add(17).readCString()})\n",
    "                },\n",
    "                onLeave: function (retval) {\n",
    "                \tsend({function: 'main', ret: retval})\n",
    "                }\n",
    "            });\n",
    "        \"\"\""
   ]
  },
  {
   "cell_type": "code",
   "execution_count": 37,
   "id": "bdb02dde-b7e8-411b-9efe-dcfcc41383d9",
   "metadata": {},
   "outputs": [
    {
     "name": "stdout",
     "output_type": "stream",
     "text": [
      "{'type': 'send', 'payload': {'function': 'main', 'args': 'arg1'}}\n",
      "arg1\n",
      "{'type': 'send', 'payload': {'function': 'main', 'ret': '0x0'}}\n",
      "arg1\n"
     ]
    }
   ],
   "source": [
    "entries = []\n",
    "\n",
    "def on_message(message, data):\n",
    "    print(message)\n",
    "    if message[\"type\"] == \"send\" and message[\"payload\"] != \"done\":\n",
    "        function_name = message[\"payload\"][\"function\"]\n",
    "        try:\n",
    "            function_args = message[\"payload\"][\"args\"]\n",
    "            io=\"input\"\n",
    "        except:\n",
    "            function_args=message[\"payload\"][\"ret\"]\n",
    "            io=\"output\"\n",
    "        entries.append((function_name,function_args))\n",
    "        print(entries[0][1])\n",
    "\n",
    "# Run the binary\n",
    "process = frida.spawn(binary_path, argv=[binary_path]+args)\n",
    "\n",
    "sleep(1)\n",
    "\n",
    "session = frida.attach(process)\n",
    "\n",
    "function_list=['strlen', 'strcmp']\n",
    "n=[1, 1, 0, 1, 1, 2]\n",
    "\n",
    "script_txt=\"\"\n",
    "#for f,i in zip(function_list,n):\n",
    "script_txt+= make_script('main',1,len)\n",
    "script_txt+=\"\\n\"\n",
    "    \n",
    "script = session.create_script(script_txt)\n",
    "script.on(\"message\",on_message)\n",
    "script.load()\n",
    "\n",
    "frida.resume(process)\n",
    "\n",
    "    # Wait for the script to complete\n",
    "    #script.join()\n"
   ]
  },
  {
   "cell_type": "code",
   "execution_count": 26,
   "id": "377d7776-6292-4945-93d8-5f1bf3e85bd9",
   "metadata": {},
   "outputs": [
    {
     "name": "stdout",
     "output_type": "stream",
     "text": [
      "0\n"
     ]
    }
   ],
   "source": []
  },
  {
   "cell_type": "code",
   "execution_count": null,
   "id": "8f941561-a41a-4a2a-ab13-d53611631682",
   "metadata": {},
   "outputs": [],
   "source": []
  }
 ],
 "metadata": {
  "kernelspec": {
   "display_name": "Python 3 (ipykernel)",
   "language": "python",
   "name": "python3"
  },
  "language_info": {
   "codemirror_mode": {
    "name": "ipython",
    "version": 3
   },
   "file_extension": ".py",
   "mimetype": "text/x-python",
   "name": "python",
   "nbconvert_exporter": "python",
   "pygments_lexer": "ipython3",
   "version": "3.10.12"
  }
 },
 "nbformat": 4,
 "nbformat_minor": 5
}
