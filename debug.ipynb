{
 "cells": [
  {
   "cell_type": "code",
   "execution_count": 36,
   "id": "7748df43-babb-4b3c-984b-182dce16c78c",
   "metadata": {},
   "outputs": [],
   "source": [
    "from elftools.elf.elffile import ELFFile\n",
    "import frida\n",
    "import sys\n",
    "from time import sleep"
   ]
  },
  {
   "cell_type": "code",
   "execution_count": 37,
   "id": "28d0fce5-e997-47c9-90a5-ec3df189ff37",
   "metadata": {},
   "outputs": [],
   "source": [
    "def generate_function_list(binary):\n",
    "    \"\"\"\n",
    "    Generate a list of all the functions defined by the target executable.\n",
    "    \"\"\"\n",
    "    functions = []\n",
    "    with open(binary, \"rb\") as f:\n",
    "        elf = ELFFile(f)\n",
    "        for section in elf.iter_sections():\n",
    "            if section.header.sh_type == 'SHT_SYMTAB':\n",
    "                for symbol in section.iter_symbols():\n",
    "                    if symbol.entry.st_info.type == 'STT_FUNC':\n",
    "                        functions.append(symbol.name)\n",
    "    return functions"
   ]
  },
  {
   "cell_type": "code",
   "execution_count": 38,
   "id": "cd7ae24d-32c7-48e3-8188-f9fa3286c465",
   "metadata": {},
   "outputs": [
    {
     "name": "stdout",
     "output_type": "stream",
     "text": [
      "['deregister_tm_clones', 'register_tm_clones', '__do_global_dtors_aux', 'frame_dummy', '__libc_start_main@GLIBC_2.34', 'puts@GLIBC_2.2.5', 'h', '_fini', 'f', '_start', 'g', 'main', '__cxa_finalize@GLIBC_2.2.5', '_init']\n"
     ]
    }
   ],
   "source": [
    "binary_path = \"./test/test\"\n",
    "args = [\"arg1\", \"arg2\"]\n",
    "\n",
    "function_list = generate_function_list(binary_path)\n",
    "print(function_list)"
   ]
  },
  {
   "cell_type": "code",
   "execution_count": 42,
   "id": "bdb02dde-b7e8-411b-9efe-dcfcc41383d9",
   "metadata": {},
   "outputs": [
    {
     "name": "stdout",
     "output_type": "stream",
     "text": [
      "null\n",
      "{'type': 'error', 'description': 'Error: expected a pointer', 'stack': 'Error: expected a pointer\\n    at value (frida/runtime/core.js:367)\\n    at <eval> (/script1.js:11)', 'fileName': 'frida/runtime/core.js', 'lineNumber': 367, 'columnNumber': 1}\n",
      "null\n",
      "{'type': 'error', 'description': 'Error: expected a pointer', 'stack': 'Error: expected a pointer\\n    at value (frida/runtime/core.js:367)\\n    at <eval> (/script2.js:11)', 'fileName': 'frida/runtime/core.js', 'lineNumber': 367, 'columnNumber': 1}\n",
      "null\n",
      "{'type': 'error', 'description': 'Error: expected a pointer', 'stack': 'Error: expected a pointer\\n    at value (frida/runtime/core.js:367)\\n    at <eval> (/script3.js:11)', 'fileName': 'frida/runtime/core.js', 'lineNumber': 367, 'columnNumber': 1}\n",
      "Hello\n"
     ]
    }
   ],
   "source": [
    "entries = []\n",
    "\n",
    "def on_message(message, data):\n",
    "    print(message)\n",
    "    if message[\"type\"] == \"send\" and message[\"payload\"] != \"done\":\n",
    "        function_name = message[\"payload\"][\"function\"]\n",
    "        function_args = message[\"payload\"][\"args\"]\n",
    "        entries.append((function_name, function_args))\n",
    "\n",
    "# Run the binary\n",
    "process = frida.spawn(binary_path, argv=[binary_path] + args)\n",
    "\n",
    "sleep(5)\n",
    "\n",
    "session = frida.attach(process)\n",
    "for f in ['f','g','h']:\n",
    "    script = session.create_script(\"\"\"\n",
    "        console.log(Module.findExportByName(null, '\"\"\"+f+\"\"\"'))\n",
    "        Interceptor.attach(Module.findExportByName(null, '\"\"\"+f+\"\"\"'), {\n",
    "            onEnter(args) {\n",
    "                send({function: \"\"\"+f+\"\"\", args: args})\n",
    "            },\n",
    "            onLeave(retval) {\n",
    "                send({function: \"\"\"+f+\"\"\", ret: retval})\n",
    "\n",
    "            }\n",
    "        });\n",
    "    \"\"\")\n",
    "    \n",
    "    script.on(\"message\", on_message)\n",
    "    script.load()\n",
    "\n",
    "frida.resume(process)"
   ]
  },
  {
   "cell_type": "code",
   "execution_count": null,
   "id": "3221a6f1-3887-4006-9ca0-6b57c26ef452",
   "metadata": {},
   "outputs": [],
   "source": []
  },
  {
   "cell_type": "code",
   "execution_count": null,
   "id": "05dbde7c-cfdb-4cd0-8e3a-5d31beb115db",
   "metadata": {},
   "outputs": [],
   "source": []
  }
 ],
 "metadata": {
  "kernelspec": {
   "display_name": "Python 3 (ipykernel)",
   "language": "python",
   "name": "python3"
  },
  "language_info": {
   "codemirror_mode": {
    "name": "ipython",
    "version": 3
   },
   "file_extension": ".py",
   "mimetype": "text/x-python",
   "name": "python",
   "nbconvert_exporter": "python",
   "pygments_lexer": "ipython3",
   "version": "3.10.6"
  }
 },
 "nbformat": 4,
 "nbformat_minor": 5
}
