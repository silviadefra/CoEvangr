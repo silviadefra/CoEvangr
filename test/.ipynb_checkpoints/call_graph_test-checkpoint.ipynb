{
 "cells": [
  {
   "cell_type": "code",
   "execution_count": 1,
   "id": "e9361d39-a30c-4101-997c-f59fe6d7bcd0",
   "metadata": {},
   "outputs": [],
   "source": [
    "import angr\n",
    "import networkx as nx\n",
    "import matplotlib.pyplot as plt\n",
    "import os\n",
    "import claripy\n",
    "import pandas as pd\n",
    "import math\n",
    "import sys"
   ]
  },
  {
   "cell_type": "code",
   "execution_count": 2,
   "id": "9ff37e52-0f41-45bb-aa84-3764e84e87fd",
   "metadata": {},
   "outputs": [],
   "source": [
    "def generate_call_graph(project):\n",
    "\n",
    "    # Set up the call graph analysis\n",
    "    cfg = project.analyses.CFGEmulated(keep_state=True)\n",
    "\n",
    "    # Retrieve the call graph\n",
    "    call_graph = cfg.functions.callgraph\n",
    "    \n",
    "    # Filter out internal functions and keep only the explicitly defined functions\n",
    "    defined_functions = project.kb.functions.values()\n",
    "    program_functions = []\n",
    "    program_functions_addr=[]\n",
    "    program_functions_name=[]\n",
    "    \n",
    "    for function in defined_functions:\n",
    "        if not function.is_simprocedure:\n",
    "            program_functions_addr.append(function.addr)\n",
    "            program_functions.append(function)\n",
    "            program_functions_name.append(function.name)\n",
    "\n",
    "    d={'name': program_functions_name,'address': program_functions_addr,'distance':[math.inf]*len(program_functions_addr), 'solver': [[None]]*len(program_functions_addr),  'values': [[None]]*len(program_functions_addr)}\n",
    "    function_data=pd.DataFrame(data=d)\n",
    "\n",
    "    # Create a subgraph for the program functions\n",
    "    sub_graph = call_graph.subgraph(program_functions_addr)\n",
    "\n",
    "    return (sub_graph, program_functions,function_data,cfg)"
   ]
  },
  {
   "cell_type": "code",
   "execution_count": 4,
   "id": "ed1797ed-8657-4f17-8ad8-096680d95b54",
   "metadata": {},
   "outputs": [],
   "source": [
    "def find_func_address(target,func_addr):\n",
    "    target_address = None\n",
    "\n",
    "    #TODO without for loop\n",
    "    for function in func_addr:\n",
    "        if function.name == target:\n",
    "                target_address = function.addr\n",
    "\n",
    "    # Check if the function is found in the call graph\n",
    "    if target_address is None:\n",
    "        print(f\"Error: '{target}' not found in the call graph.\")\n",
    "        return None\n",
    "\n",
    "    return target_address"
   ]
  },
  {
   "cell_type": "code",
   "execution_count": 5,
   "id": "d0464d3a-5850-490b-9b78-09fbffe2873c",
   "metadata": {},
   "outputs": [],
   "source": [
    "def nodes_distance(graph, trg):\n",
    "\n",
    "    shortest_paths = nx.shortest_path_length(graph, target=trg)\n",
    "    addresses=list(shortest_paths)\n",
    "    addresses.reverse()\n",
    "\n",
    "    return (addresses,shortest_paths)"
   ]
  },
  {
   "cell_type": "code",
   "execution_count": 13,
   "id": "70f8708b-f845-44ff-ab9e-0f2e53428eda",
   "metadata": {},
   "outputs": [],
   "source": [
    "def get_type(project, functions,cfg):\n",
    "\n",
    "    types=[]\n",
    "    # Set up the calling convention analysis for each function\n",
    "    for f in functions:\n",
    "        # Vriable recovery\n",
    "        vr = project.analyses.VariableRecoveryFast(f)\n",
    "        \n",
    "        cca = project.analyses.CallingConvention(f,cfg=cfg,analyze_callsites=True)\n",
    "        types.append(cca.prototype)\n",
    "        \n",
    "    return types"
   ]
  },
  {
   "cell_type": "code",
   "execution_count": 14,
   "id": "6d0b45df-1f15-4ad2-9a3a-de0ab8c73e55",
   "metadata": {},
   "outputs": [],
   "source": [
    "def find_succ(source,graph,addr,distance):\n",
    "    \n",
    "    elems_in_both_lists = set(addr) & set(list(graph.successors(source)))\n",
    "    target_addr=[x for x in elems_in_both_lists if distance[source] > distance[x]]\n",
    "    \n",
    "    \n",
    "    return target_addr"
   ]
  },
  {
   "cell_type": "code",
   "execution_count": 33,
   "id": "30eadf3e-174c-49e8-9189-96737de9cadb",
   "metadata": {},
   "outputs": [],
   "source": [
    "def get_solver(source,target,project,n,binary_path):\n",
    "    \n",
    "\n",
    "    # Symbolic input variables\n",
    "    y = claripy.BVS(\"y\", 100*8) # 100 bytes\n",
    "\n",
    "    initial_state= project.factory.entry_state(addr=source,args=[binary_path,y])\n",
    "    sm = project.factory.simgr(initial_state)\n",
    "    sm.explore(find=target)\n",
    "\n",
    "    # Get constraints leading to reaching the api_address\n",
    "    constraints = []\n",
    "    for path in sm.found:\n",
    "        constraints.extend(path.solver.constraints)\n",
    "        print(path.solver.eval(y, cast_to=byte)\n",
    "\n",
    "\n",
    "    # Create a solver with all the constraints combined using the logical OR operator\n",
    "    if constraints:\n",
    "        combined_constraints = claripy.Or(*constraints)\n",
    "        solver = claripy.Solver()\n",
    "        solver.add(combined_constraints)\n",
    "        solutions=solver.eval(y,n)\n",
    "        #sol=solver.eval(y,n)\n",
    "        #solutions=[[s] for s in solutions]\n",
    "        print(solutions)\n",
    "        #print(sol)\n",
    "    else:\n",
    "        solver=True\n",
    "        solutions=[]\n",
    "\n",
    "    # Convert solutions from bytes to strings\n",
    "    solutions_as_strings = [sol.decode('utf-8') for sol in solutions]\n",
    "    print(solutions_as_strings)\n",
    "    return solver, solutions"
   ]
  },
  {
   "cell_type": "code",
   "execution_count": 34,
   "id": "0062e354-8680-4873-9915-b9cc499ad847",
   "metadata": {},
   "outputs": [],
   "source": [
    "def functions_dataframe(binary_path, api_call,n):\n",
    "\n",
    "    # Check if the binary file exists\n",
    "    if not os.path.isfile(binary_path):\n",
    "        print(f\"Error: File '{binary_path}' does not exist.\")\n",
    "        return \n",
    "\n",
    "    # Create an angr project\n",
    "    project = angr.Project(binary_path, auto_load_libs=False)\n",
    "\n",
    "    # Generate the call graph\n",
    "    (call_graph, func_addr,function_data, cfg)=generate_call_graph(project)\n",
    "\n",
    "    # Find the address of the function\n",
    "    api_address=find_func_address(api_call,func_addr) \n",
    "    # Check if the function is found in the call graph\n",
    "    if api_address is None:\n",
    "        return \n",
    "    \n",
    "    # Find minimum distance between nodes and target\n",
    "    (nodes,distance)=nodes_distance(call_graph,api_address)\n",
    "\n",
    "    # Get functions' type inputs\n",
    "    type_inputs=get_type(project, func_addr,cfg)\n",
    "    function_data['type']=type_inputs\n",
    "\n",
    "    addr=nodes.copy() #non necessario\n",
    "    #TODO in parallel\n",
    "    for starting_address in nodes:\n",
    "        i=function_data.index[function_data['address']==starting_address].item()\n",
    "        function_data.loc[i,'distance']=distance[starting_address]\n",
    "        if distance[starting_address]==0:\n",
    "            continue\n",
    "        addr.remove(starting_address)\n",
    "        \n",
    "        # Find for each node successors with smaller distance\n",
    "        target_func=find_succ(starting_address,call_graph,addr,distance) #forse conviene non definire la funzione e mettere tutto nel main\n",
    "        \n",
    "        # Get the solver with constraints leading to reaching the target_func, and values to solve them\n",
    "        s,v=get_solver(starting_address,target_func,project,n,binary_path)\n",
    "        function_data.loc[i,'solver']=s\n",
    "        function_data.at[i,'values']=v\n",
    "    print(function_data.values.tolist())\n",
    "\n",
    "    # Visualize the call graph\n",
    "    #visualize(cfg,call_graph) #se eliminamo questa funzione possiamo togliere cfg da funzione generate_call-graph\n",
    "\n",
    "    return function_data"
   ]
  },
  {
   "cell_type": "code",
   "execution_count": 35,
   "id": "47cc7573-4e6a-4e32-8938-83b3982e77d7",
   "metadata": {},
   "outputs": [
    {
     "name": "stdout",
     "output_type": "stream",
     "text": [
      "(0, 23689546086131422960647270026588478931532074235789438036179382904450240366918592625898413220651954314430049601701829119967217713075482397330387684250506304003974227539380644310764545984368872754291732775783027172102246808682496)\n"
     ]
    },
    {
     "ename": "AttributeError",
     "evalue": "'int' object has no attribute 'decode'",
     "output_type": "error",
     "traceback": [
      "\u001b[0;31m---------------------------------------------------------------------------\u001b[0m",
      "\u001b[0;31mAttributeError\u001b[0m                            Traceback (most recent call last)",
      "Cell \u001b[0;32mIn[35], line 4\u001b[0m\n\u001b[1;32m      2\u001b[0m api_call\u001b[38;5;241m=\u001b[39m\u001b[38;5;124m'\u001b[39m\u001b[38;5;124mprintf\u001b[39m\u001b[38;5;124m'\u001b[39m\n\u001b[1;32m      3\u001b[0m n\u001b[38;5;241m=\u001b[39m\u001b[38;5;241m2\u001b[39m\n\u001b[0;32m----> 4\u001b[0m \u001b[43mfunctions_dataframe\u001b[49m\u001b[43m(\u001b[49m\u001b[43mbinary_path\u001b[49m\u001b[43m,\u001b[49m\u001b[43mapi_call\u001b[49m\u001b[43m,\u001b[49m\u001b[43mn\u001b[49m\u001b[43m)\u001b[49m\n",
      "Cell \u001b[0;32mIn[34], line 40\u001b[0m, in \u001b[0;36mfunctions_dataframe\u001b[0;34m(binary_path, api_call, n)\u001b[0m\n\u001b[1;32m     37\u001b[0m target_func\u001b[38;5;241m=\u001b[39mfind_succ(starting_address,call_graph,addr,distance) \u001b[38;5;66;03m#forse conviene non definire la funzione e mettere tutto nel main\u001b[39;00m\n\u001b[1;32m     39\u001b[0m \u001b[38;5;66;03m# Get the solver with constraints leading to reaching the target_func, and values to solve them\u001b[39;00m\n\u001b[0;32m---> 40\u001b[0m s,v\u001b[38;5;241m=\u001b[39m\u001b[43mget_solver\u001b[49m\u001b[43m(\u001b[49m\u001b[43mstarting_address\u001b[49m\u001b[43m,\u001b[49m\u001b[43mtarget_func\u001b[49m\u001b[43m,\u001b[49m\u001b[43mproject\u001b[49m\u001b[43m,\u001b[49m\u001b[43mn\u001b[49m\u001b[43m,\u001b[49m\u001b[43mbinary_path\u001b[49m\u001b[43m)\u001b[49m\n\u001b[1;32m     41\u001b[0m function_data\u001b[38;5;241m.\u001b[39mloc[i,\u001b[38;5;124m'\u001b[39m\u001b[38;5;124msolver\u001b[39m\u001b[38;5;124m'\u001b[39m]\u001b[38;5;241m=\u001b[39ms\n\u001b[1;32m     42\u001b[0m function_data\u001b[38;5;241m.\u001b[39mat[i,\u001b[38;5;124m'\u001b[39m\u001b[38;5;124mvalues\u001b[39m\u001b[38;5;124m'\u001b[39m]\u001b[38;5;241m=\u001b[39mv\n",
      "Cell \u001b[0;32mIn[33], line 32\u001b[0m, in \u001b[0;36mget_solver\u001b[0;34m(source, target, project, n, binary_path)\u001b[0m\n\u001b[1;32m     29\u001b[0m     solutions\u001b[38;5;241m=\u001b[39m[]\n\u001b[1;32m     31\u001b[0m \u001b[38;5;66;03m# Convert solutions from bytes to strings\u001b[39;00m\n\u001b[0;32m---> 32\u001b[0m solutions_as_strings \u001b[38;5;241m=\u001b[39m [sol\u001b[38;5;241m.\u001b[39mdecode(\u001b[38;5;124m'\u001b[39m\u001b[38;5;124mutf-8\u001b[39m\u001b[38;5;124m'\u001b[39m) \u001b[38;5;28;01mfor\u001b[39;00m sol \u001b[38;5;129;01min\u001b[39;00m solutions]\n\u001b[1;32m     33\u001b[0m \u001b[38;5;28mprint\u001b[39m(solutions_as_strings)\n\u001b[1;32m     34\u001b[0m \u001b[38;5;28;01mreturn\u001b[39;00m solver, solutions\n",
      "Cell \u001b[0;32mIn[33], line 32\u001b[0m, in \u001b[0;36m<listcomp>\u001b[0;34m(.0)\u001b[0m\n\u001b[1;32m     29\u001b[0m     solutions\u001b[38;5;241m=\u001b[39m[]\n\u001b[1;32m     31\u001b[0m \u001b[38;5;66;03m# Convert solutions from bytes to strings\u001b[39;00m\n\u001b[0;32m---> 32\u001b[0m solutions_as_strings \u001b[38;5;241m=\u001b[39m [\u001b[43msol\u001b[49m\u001b[38;5;241;43m.\u001b[39;49m\u001b[43mdecode\u001b[49m(\u001b[38;5;124m'\u001b[39m\u001b[38;5;124mutf-8\u001b[39m\u001b[38;5;124m'\u001b[39m) \u001b[38;5;28;01mfor\u001b[39;00m sol \u001b[38;5;129;01min\u001b[39;00m solutions]\n\u001b[1;32m     33\u001b[0m \u001b[38;5;28mprint\u001b[39m(solutions_as_strings)\n\u001b[1;32m     34\u001b[0m \u001b[38;5;28;01mreturn\u001b[39;00m solver, solutions\n",
      "\u001b[0;31mAttributeError\u001b[0m: 'int' object has no attribute 'decode'"
     ]
    }
   ],
   "source": [
    "binary_path='./test_char'\n",
    "api_call='printf'\n",
    "n=2\n",
    "functions_dataframe(binary_path,api_call,n)"
   ]
  },
  {
   "cell_type": "code",
   "execution_count": null,
   "id": "7ece4d45-b364-49ca-9387-72ff599c0fa3",
   "metadata": {},
   "outputs": [],
   "source": []
  }
 ],
 "metadata": {
  "kernelspec": {
   "display_name": "Python 3 (ipykernel)",
   "language": "python",
   "name": "python3"
  },
  "language_info": {
   "codemirror_mode": {
    "name": "ipython",
    "version": 3
   },
   "file_extension": ".py",
   "mimetype": "text/x-python",
   "name": "python",
   "nbconvert_exporter": "python",
   "pygments_lexer": "ipython3",
   "version": "3.10.6"
  }
 },
 "nbformat": 4,
 "nbformat_minor": 5
}
